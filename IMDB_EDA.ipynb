{
  "nbformat": 4,
  "nbformat_minor": 0,
  "metadata": {
    "colab": {
      "provenance": []
    },
    "kernelspec": {
      "name": "python3",
      "display_name": "Python 3"
    },
    "language_info": {
      "name": "python"
    }
  },
  "cells": [
    {
      "cell_type": "markdown",
      "source": [
        "## Excersize 4, EDA, Data Pre-Processing, Feature Selection\n",
        "###**Team IMDB** *Chase Hartsell, Calvin Aberg, Ben Earles*"
      ],
      "metadata": {
        "id": "uqgxABvTYTKH"
      }
    },
    {
      "cell_type": "markdown",
      "source": [
        "### **Read Ins and Cleaning**"
      ],
      "metadata": {
        "id": "GIotRJrAYzDU"
      }
    },
    {
      "cell_type": "code",
      "execution_count": null,
      "metadata": {
        "id": "HHJI3tJSAo0F"
      },
      "outputs": [],
      "source": [
        "import pandas as pd\n",
        "import numpy as np\n",
        "import matplotlib.pyplot as plt\n",
        "import math"
      ]
    },
    {
      "cell_type": "markdown",
      "source": [
        "First, we will read in the IMDB movie data from 2006-2016 and display the first few rows and some general information about the columns."
      ],
      "metadata": {
        "id": "kdAQVFOXIp4f"
      }
    },
    {
      "cell_type": "code",
      "source": [
        "imdb = pd.read_csv('/content/IMDB-Movie-Data.csv')\n",
        "imdb.head()"
      ],
      "metadata": {
        "colab": {
          "base_uri": "https://localhost:8080/",
          "height": 583
        },
        "id": "Z2k1ld-XGnA4",
        "outputId": "e2e670d7-8028-464f-d531-32eec5814690"
      },
      "execution_count": null,
      "outputs": [
        {
          "output_type": "execute_result",
          "data": {
            "text/plain": [
              "   Rank                    Title                     Genre  \\\n",
              "0     1  Guardians of the Galaxy   Action,Adventure,Sci-Fi   \n",
              "1     2               Prometheus  Adventure,Mystery,Sci-Fi   \n",
              "2     3                    Split           Horror,Thriller   \n",
              "3     4                     Sing   Animation,Comedy,Family   \n",
              "4     5            Suicide Squad  Action,Adventure,Fantasy   \n",
              "\n",
              "                                         Description              Director  \\\n",
              "0  A group of intergalactic criminals are forced ...            James Gunn   \n",
              "1  Following clues to the origin of mankind, a te...          Ridley Scott   \n",
              "2  Three girls are kidnapped by a man with a diag...    M. Night Shyamalan   \n",
              "3  In a city of humanoid animals, a hustling thea...  Christophe Lourdelet   \n",
              "4  A secret government agency recruits some of th...            David Ayer   \n",
              "\n",
              "                                              Actors  Year  Runtime (Minutes)  \\\n",
              "0  Chris Pratt, Vin Diesel, Bradley Cooper, Zoe S...  2014                121   \n",
              "1  Noomi Rapace, Logan Marshall-Green, Michael Fa...  2012                124   \n",
              "2  James McAvoy, Anya Taylor-Joy, Haley Lu Richar...  2016                117   \n",
              "3  Matthew McConaughey,Reese Witherspoon, Seth Ma...  2016                108   \n",
              "4  Will Smith, Jared Leto, Margot Robbie, Viola D...  2016                123   \n",
              "\n",
              "   Rating   Votes  Revenue (Millions)  Metascore  \n",
              "0     8.1  757074              333.13       76.0  \n",
              "1     7.0  485820              126.46       65.0  \n",
              "2     7.3  157606              138.12       62.0  \n",
              "3     7.2   60545              270.32       59.0  \n",
              "4     6.2  393727              325.02       40.0  "
            ],
            "text/html": [
              "\n",
              "  <div id=\"df-bc69de02-b3f2-430a-b6d8-bc890d435e0d\">\n",
              "    <div class=\"colab-df-container\">\n",
              "      <div>\n",
              "<style scoped>\n",
              "    .dataframe tbody tr th:only-of-type {\n",
              "        vertical-align: middle;\n",
              "    }\n",
              "\n",
              "    .dataframe tbody tr th {\n",
              "        vertical-align: top;\n",
              "    }\n",
              "\n",
              "    .dataframe thead th {\n",
              "        text-align: right;\n",
              "    }\n",
              "</style>\n",
              "<table border=\"1\" class=\"dataframe\">\n",
              "  <thead>\n",
              "    <tr style=\"text-align: right;\">\n",
              "      <th></th>\n",
              "      <th>Rank</th>\n",
              "      <th>Title</th>\n",
              "      <th>Genre</th>\n",
              "      <th>Description</th>\n",
              "      <th>Director</th>\n",
              "      <th>Actors</th>\n",
              "      <th>Year</th>\n",
              "      <th>Runtime (Minutes)</th>\n",
              "      <th>Rating</th>\n",
              "      <th>Votes</th>\n",
              "      <th>Revenue (Millions)</th>\n",
              "      <th>Metascore</th>\n",
              "    </tr>\n",
              "  </thead>\n",
              "  <tbody>\n",
              "    <tr>\n",
              "      <th>0</th>\n",
              "      <td>1</td>\n",
              "      <td>Guardians of the Galaxy</td>\n",
              "      <td>Action,Adventure,Sci-Fi</td>\n",
              "      <td>A group of intergalactic criminals are forced ...</td>\n",
              "      <td>James Gunn</td>\n",
              "      <td>Chris Pratt, Vin Diesel, Bradley Cooper, Zoe S...</td>\n",
              "      <td>2014</td>\n",
              "      <td>121</td>\n",
              "      <td>8.1</td>\n",
              "      <td>757074</td>\n",
              "      <td>333.13</td>\n",
              "      <td>76.0</td>\n",
              "    </tr>\n",
              "    <tr>\n",
              "      <th>1</th>\n",
              "      <td>2</td>\n",
              "      <td>Prometheus</td>\n",
              "      <td>Adventure,Mystery,Sci-Fi</td>\n",
              "      <td>Following clues to the origin of mankind, a te...</td>\n",
              "      <td>Ridley Scott</td>\n",
              "      <td>Noomi Rapace, Logan Marshall-Green, Michael Fa...</td>\n",
              "      <td>2012</td>\n",
              "      <td>124</td>\n",
              "      <td>7.0</td>\n",
              "      <td>485820</td>\n",
              "      <td>126.46</td>\n",
              "      <td>65.0</td>\n",
              "    </tr>\n",
              "    <tr>\n",
              "      <th>2</th>\n",
              "      <td>3</td>\n",
              "      <td>Split</td>\n",
              "      <td>Horror,Thriller</td>\n",
              "      <td>Three girls are kidnapped by a man with a diag...</td>\n",
              "      <td>M. Night Shyamalan</td>\n",
              "      <td>James McAvoy, Anya Taylor-Joy, Haley Lu Richar...</td>\n",
              "      <td>2016</td>\n",
              "      <td>117</td>\n",
              "      <td>7.3</td>\n",
              "      <td>157606</td>\n",
              "      <td>138.12</td>\n",
              "      <td>62.0</td>\n",
              "    </tr>\n",
              "    <tr>\n",
              "      <th>3</th>\n",
              "      <td>4</td>\n",
              "      <td>Sing</td>\n",
              "      <td>Animation,Comedy,Family</td>\n",
              "      <td>In a city of humanoid animals, a hustling thea...</td>\n",
              "      <td>Christophe Lourdelet</td>\n",
              "      <td>Matthew McConaughey,Reese Witherspoon, Seth Ma...</td>\n",
              "      <td>2016</td>\n",
              "      <td>108</td>\n",
              "      <td>7.2</td>\n",
              "      <td>60545</td>\n",
              "      <td>270.32</td>\n",
              "      <td>59.0</td>\n",
              "    </tr>\n",
              "    <tr>\n",
              "      <th>4</th>\n",
              "      <td>5</td>\n",
              "      <td>Suicide Squad</td>\n",
              "      <td>Action,Adventure,Fantasy</td>\n",
              "      <td>A secret government agency recruits some of th...</td>\n",
              "      <td>David Ayer</td>\n",
              "      <td>Will Smith, Jared Leto, Margot Robbie, Viola D...</td>\n",
              "      <td>2016</td>\n",
              "      <td>123</td>\n",
              "      <td>6.2</td>\n",
              "      <td>393727</td>\n",
              "      <td>325.02</td>\n",
              "      <td>40.0</td>\n",
              "    </tr>\n",
              "  </tbody>\n",
              "</table>\n",
              "</div>\n",
              "      <button class=\"colab-df-convert\" onclick=\"convertToInteractive('df-bc69de02-b3f2-430a-b6d8-bc890d435e0d')\"\n",
              "              title=\"Convert this dataframe to an interactive table.\"\n",
              "              style=\"display:none;\">\n",
              "        \n",
              "  <svg xmlns=\"http://www.w3.org/2000/svg\" height=\"24px\"viewBox=\"0 0 24 24\"\n",
              "       width=\"24px\">\n",
              "    <path d=\"M0 0h24v24H0V0z\" fill=\"none\"/>\n",
              "    <path d=\"M18.56 5.44l.94 2.06.94-2.06 2.06-.94-2.06-.94-.94-2.06-.94 2.06-2.06.94zm-11 1L8.5 8.5l.94-2.06 2.06-.94-2.06-.94L8.5 2.5l-.94 2.06-2.06.94zm10 10l.94 2.06.94-2.06 2.06-.94-2.06-.94-.94-2.06-.94 2.06-2.06.94z\"/><path d=\"M17.41 7.96l-1.37-1.37c-.4-.4-.92-.59-1.43-.59-.52 0-1.04.2-1.43.59L10.3 9.45l-7.72 7.72c-.78.78-.78 2.05 0 2.83L4 21.41c.39.39.9.59 1.41.59.51 0 1.02-.2 1.41-.59l7.78-7.78 2.81-2.81c.8-.78.8-2.07 0-2.86zM5.41 20L4 18.59l7.72-7.72 1.47 1.35L5.41 20z\"/>\n",
              "  </svg>\n",
              "      </button>\n",
              "      \n",
              "  <style>\n",
              "    .colab-df-container {\n",
              "      display:flex;\n",
              "      flex-wrap:wrap;\n",
              "      gap: 12px;\n",
              "    }\n",
              "\n",
              "    .colab-df-convert {\n",
              "      background-color: #E8F0FE;\n",
              "      border: none;\n",
              "      border-radius: 50%;\n",
              "      cursor: pointer;\n",
              "      display: none;\n",
              "      fill: #1967D2;\n",
              "      height: 32px;\n",
              "      padding: 0 0 0 0;\n",
              "      width: 32px;\n",
              "    }\n",
              "\n",
              "    .colab-df-convert:hover {\n",
              "      background-color: #E2EBFA;\n",
              "      box-shadow: 0px 1px 2px rgba(60, 64, 67, 0.3), 0px 1px 3px 1px rgba(60, 64, 67, 0.15);\n",
              "      fill: #174EA6;\n",
              "    }\n",
              "\n",
              "    [theme=dark] .colab-df-convert {\n",
              "      background-color: #3B4455;\n",
              "      fill: #D2E3FC;\n",
              "    }\n",
              "\n",
              "    [theme=dark] .colab-df-convert:hover {\n",
              "      background-color: #434B5C;\n",
              "      box-shadow: 0px 1px 3px 1px rgba(0, 0, 0, 0.15);\n",
              "      filter: drop-shadow(0px 1px 2px rgba(0, 0, 0, 0.3));\n",
              "      fill: #FFFFFF;\n",
              "    }\n",
              "  </style>\n",
              "\n",
              "      <script>\n",
              "        const buttonEl =\n",
              "          document.querySelector('#df-bc69de02-b3f2-430a-b6d8-bc890d435e0d button.colab-df-convert');\n",
              "        buttonEl.style.display =\n",
              "          google.colab.kernel.accessAllowed ? 'block' : 'none';\n",
              "\n",
              "        async function convertToInteractive(key) {\n",
              "          const element = document.querySelector('#df-bc69de02-b3f2-430a-b6d8-bc890d435e0d');\n",
              "          const dataTable =\n",
              "            await google.colab.kernel.invokeFunction('convertToInteractive',\n",
              "                                                     [key], {});\n",
              "          if (!dataTable) return;\n",
              "\n",
              "          const docLinkHtml = 'Like what you see? Visit the ' +\n",
              "            '<a target=\"_blank\" href=https://colab.research.google.com/notebooks/data_table.ipynb>data table notebook</a>'\n",
              "            + ' to learn more about interactive tables.';\n",
              "          element.innerHTML = '';\n",
              "          dataTable['output_type'] = 'display_data';\n",
              "          await google.colab.output.renderOutput(dataTable, element);\n",
              "          const docLink = document.createElement('div');\n",
              "          docLink.innerHTML = docLinkHtml;\n",
              "          element.appendChild(docLink);\n",
              "        }\n",
              "      </script>\n",
              "    </div>\n",
              "  </div>\n",
              "  "
            ]
          },
          "metadata": {},
          "execution_count": 2
        }
      ]
    },
    {
      "cell_type": "code",
      "source": [
        "imdb.info()"
      ],
      "metadata": {
        "colab": {
          "base_uri": "https://localhost:8080/"
        },
        "id": "Hghl5kbtGpFr",
        "outputId": "48e4803a-76c5-4f4e-b034-6ef3a1e98c67"
      },
      "execution_count": null,
      "outputs": [
        {
          "output_type": "stream",
          "name": "stdout",
          "text": [
            "<class 'pandas.core.frame.DataFrame'>\n",
            "RangeIndex: 1000 entries, 0 to 999\n",
            "Data columns (total 12 columns):\n",
            " #   Column              Non-Null Count  Dtype  \n",
            "---  ------              --------------  -----  \n",
            " 0   Rank                1000 non-null   int64  \n",
            " 1   Title               1000 non-null   object \n",
            " 2   Genre               1000 non-null   object \n",
            " 3   Description         1000 non-null   object \n",
            " 4   Director            1000 non-null   object \n",
            " 5   Actors              1000 non-null   object \n",
            " 6   Year                1000 non-null   int64  \n",
            " 7   Runtime (Minutes)   1000 non-null   int64  \n",
            " 8   Rating              1000 non-null   float64\n",
            " 9   Votes               1000 non-null   int64  \n",
            " 10  Revenue (Millions)  872 non-null    float64\n",
            " 11  Metascore           936 non-null    float64\n",
            "dtypes: float64(3), int64(4), object(5)\n",
            "memory usage: 93.9+ KB\n"
          ]
        }
      ]
    },
    {
      "cell_type": "markdown",
      "source": [
        "We can see that there are not many columns with missing values, so we choose to drop these data points rather than impute their values. Additionally, we will not be using the 'Title' column as we believe, in relation to the 'Description' column, this feature does not provide much information over the other included features about the genre of the movie."
      ],
      "metadata": {
        "id": "mNwuDUODI2ur"
      }
    },
    {
      "cell_type": "code",
      "source": [
        "# Drop rows with missing values\n",
        "imdb = imdb.dropna(axis = 0)\n",
        "\n",
        "# Drop the 'Title' column\n",
        "imdb = imdb.drop(columns=['Title'])\n",
        "\n",
        "# Reindex the data so we can interate over it more easily\n",
        "imdb.reset_index(drop=True, inplace=True)\n",
        "\n",
        "# Make a copy of the data before pre-processing\n",
        "imdb_copy = imdb.copy()"
      ],
      "metadata": {
        "id": "Lw7EFOTLGzQM"
      },
      "execution_count": null,
      "outputs": []
    },
    {
      "cell_type": "code",
      "source": [
        "imdb.info()"
      ],
      "metadata": {
        "colab": {
          "base_uri": "https://localhost:8080/"
        },
        "id": "WkBfiGigHRGs",
        "outputId": "3fd24dfd-23fe-4ef9-f55f-56ad23b57921"
      },
      "execution_count": null,
      "outputs": [
        {
          "output_type": "stream",
          "name": "stdout",
          "text": [
            "<class 'pandas.core.frame.DataFrame'>\n",
            "RangeIndex: 838 entries, 0 to 837\n",
            "Data columns (total 11 columns):\n",
            " #   Column              Non-Null Count  Dtype  \n",
            "---  ------              --------------  -----  \n",
            " 0   Rank                838 non-null    int64  \n",
            " 1   Genre               838 non-null    object \n",
            " 2   Description         838 non-null    object \n",
            " 3   Director            838 non-null    object \n",
            " 4   Actors              838 non-null    object \n",
            " 5   Year                838 non-null    int64  \n",
            " 6   Runtime (Minutes)   838 non-null    int64  \n",
            " 7   Rating              838 non-null    float64\n",
            " 8   Votes               838 non-null    int64  \n",
            " 9   Revenue (Millions)  838 non-null    float64\n",
            " 10  Metascore           838 non-null    float64\n",
            "dtypes: float64(3), int64(4), object(4)\n",
            "memory usage: 72.1+ KB\n"
          ]
        }
      ]
    },
    {
      "cell_type": "markdown",
      "source": [
        "We are now left with 838 data points without any null values."
      ],
      "metadata": {
        "id": "-Bby6v39Jla_"
      }
    },
    {
      "cell_type": "markdown",
      "source": [
        "We will also break the 'Genre' column into a vector of 0s and 1s for each movie, where the length of the vector is the number of genres. If a movie falls under a given genre, then the bit in the vector for that genre is 1. Otherwise, the bit is 0. This is so we can use a multi-output classifier for when we run feature selection and go to train and test our models."
      ],
      "metadata": {
        "id": "SY8bMhFMJx9k"
      }
    },
    {
      "cell_type": "code",
      "source": [
        "# Convert the 'Genre' column into a list of genres\n",
        "imdb['Genre'] = imdb['Genre'].map(lambda g: pd.Series(g.split(',')))\n",
        "\n",
        "# Get a list of all genres in the dataset\n",
        "genres = pd.Series()\n",
        "for genre_list in imdb['Genre']:\n",
        "  genres = np.union1d(genres, genre_list)\n",
        "print('All genres:\\n{}'.format(genres))\n",
        "\n",
        "# Create new feature for multi-label output\n",
        "for i in range(len(imdb)):\n",
        "  genre_list = imdb['Genre'][i]\n",
        "\n",
        "  # Create a new feature for each genre: 1 if the movie is the genre, 0 otherwise\n",
        "  for genre in genre_list:\n",
        "    genre_col = 'Genre_' + genre\n",
        "    if genre_col not in imdb:\n",
        "      imdb[genre_col] = pd.Series(np.zeros(len(imdb)))\n",
        "    imdb[genre_col][i] = 1\n",
        "\n",
        "# Drop the original column\n",
        "imdb = imdb.drop(columns=['Genre'])"
      ],
      "metadata": {
        "id": "8TmHJFJzIdUS",
        "colab": {
          "base_uri": "https://localhost:8080/"
        },
        "outputId": "d82f9a28-5bfc-4e23-da8b-e953c8ccc269"
      },
      "execution_count": null,
      "outputs": [
        {
          "output_type": "stream",
          "name": "stderr",
          "text": [
            "/usr/local/lib/python3.7/dist-packages/ipykernel_launcher.py:5: DeprecationWarning: The default dtype for empty Series will be 'object' instead of 'float64' in a future version. Specify a dtype explicitly to silence this warning.\n",
            "  \"\"\"\n",
            "/usr/local/lib/python3.7/dist-packages/ipykernel_launcher.py:19: SettingWithCopyWarning: \n",
            "A value is trying to be set on a copy of a slice from a DataFrame\n",
            "\n",
            "See the caveats in the documentation: https://pandas.pydata.org/pandas-docs/stable/user_guide/indexing.html#returning-a-view-versus-a-copy\n"
          ]
        },
        {
          "output_type": "stream",
          "name": "stdout",
          "text": [
            "All genres:\n",
            "['Action' 'Adventure' 'Animation' 'Biography' 'Comedy' 'Crime' 'Drama'\n",
            " 'Family' 'Fantasy' 'History' 'Horror' 'Music' 'Musical' 'Mystery'\n",
            " 'Romance' 'Sci-Fi' 'Sport' 'Thriller' 'War' 'Western']\n"
          ]
        }
      ]
    },
    {
      "cell_type": "markdown",
      "source": [
        "### **Feature Engineering**"
      ],
      "metadata": {
        "id": "4qiCQ3bqY8mE"
      }
    },
    {
      "cell_type": "code",
      "source": [
        "import re\n",
        "import spacy as sp"
      ],
      "metadata": {
        "id": "V_4a70DMLhMH"
      },
      "execution_count": null,
      "outputs": []
    },
    {
      "cell_type": "markdown",
      "source": [
        "The 'Description' feature is not very useful as it is provided. We will create a new feature for every word included in all descriptions in the data set, excluding very common words that will not provide much information about the genre. This feature will measure the frequency of a given word in the description for the movie."
      ],
      "metadata": {
        "id": "x2gtrAvrKAu9"
      }
    },
    {
      "cell_type": "code",
      "source": [
        "# Get a list of common stopwords that we want to ignore\n",
        "stopwords = sp.load('en_core_web_sm').Defaults.stop_words\n",
        "\n",
        "# Create regex for filtering out non-letters\n",
        "regex = re.compile('[^a-zA-Z]+')\n",
        "\n",
        "# Convert the 'Description' column into a list of words\n",
        "imdb['Description'] = imdb['Description'].map(lambda g: pd.Series(g.split()).map(lambda s: regex.sub('', s).lower()))\n",
        "\n",
        "# Get a list of all words in the dataset\n",
        "words = []\n",
        "for i in range(len(imdb)):\n",
        "  word_list = imdb['Description'][i]\n",
        "\n",
        "  # Remove non-letters and convert words to all lowercase\n",
        "  word_list = word_list.map(lambda x: regex.sub('', x).lower())\n",
        "\n",
        "  # Remove stopwords and empty strings\n",
        "  word_list = [word for word in word_list if word not in stopwords and not word == '']\n",
        "\n",
        "  # Add the new word to the list of all words\n",
        "  words = np.union1d(words, word_list)\n",
        "\n",
        "  # Create a new feature for each word, counting its frequency\n",
        "  for word in word_list:\n",
        "    word_freq_col = word + '_freq'\n",
        "    if word + '_freq' not in imdb:\n",
        "      imdb[word_freq_col] = pd.Series(np.zeros(len(imdb)))\n",
        "      imdb[word_freq_col][i] = 1\n",
        "    else:\n",
        "      imdb[word_freq_col][i] += 1\n",
        "print('All words:\\n{}'.format(words))"
      ],
      "metadata": {
        "colab": {
          "base_uri": "https://localhost:8080/"
        },
        "id": "P8oeN-rHJKq_",
        "outputId": "444599db-7ea6-4543-f0ff-49865bd92bf3"
      },
      "execution_count": null,
      "outputs": [
        {
          "output_type": "stream",
          "name": "stderr",
          "text": [
            "/usr/local/lib/python3.7/dist-packages/ipykernel_launcher.py:29: SettingWithCopyWarning: \n",
            "A value is trying to be set on a copy of a slice from a DataFrame\n",
            "\n",
            "See the caveats in the documentation: https://pandas.pydata.org/pandas-docs/stable/user_guide/indexing.html#returning-a-view-versus-a-copy\n",
            "/usr/local/lib/python3.7/dist-packages/ipykernel_launcher.py:31: SettingWithCopyWarning: \n",
            "A value is trying to be set on a copy of a slice from a DataFrame\n",
            "\n",
            "See the caveats in the documentation: https://pandas.pydata.org/pandas-docs/stable/user_guide/indexing.html#returning-a-view-versus-a-copy\n",
            "/usr/local/lib/python3.7/dist-packages/ipykernel_launcher.py:28: PerformanceWarning: DataFrame is highly fragmented.  This is usually the result of calling `frame.insert` many times, which has poor performance.  Consider joining all columns at once using pd.concat(axis=1) instead.  To get a de-fragmented frame, use `newframe = frame.copy()`\n"
          ]
        },
        {
          "output_type": "stream",
          "name": "stdout",
          "text": [
            "All words:\n",
            "['aaron' 'abandoned' 'abandons' ... 'zone' 'zubrowka' 'zuckerberg']\n"
          ]
        }
      ]
    },
    {
      "cell_type": "markdown",
      "source": [
        "We will perform a similar transformation with the 'Actors' feature by creating an indicator feature for each actor. This feature will be `1` if the actor is featured in the movie and `0` otherwise.\n"
      ],
      "metadata": {
        "id": "azek_ThgKwyG"
      }
    },
    {
      "cell_type": "code",
      "source": [
        "# Convert the 'Actors' column into a list of words\n",
        "imdb['Actors'] = imdb['Actors'].map(lambda a: pd.Series(a.split(',')).map(lambda s: s.strip()))\n",
        "\n",
        "# Get a list of all actors in the dataset\n",
        "actors = []\n",
        "for i in range(len(imdb)):\n",
        "  actor_list = imdb['Actors'][i]\n",
        "\n",
        "  # Add the new actor to the list of all actors\n",
        "  actors = np.union1d(actors, actor_list)\n",
        "\n",
        "  # Create a new feature for each actor: 1 if the actor is in the movie, 0 otherwise\n",
        "  for actor in actor_list:\n",
        "    actor_col = 'Actor_' + actor\n",
        "    if actor not in imdb:\n",
        "      imdb[actor_col] = pd.Series(np.zeros(len(imdb)))\n",
        "    imdb[actor_col][i] = 1\n",
        "print('All actors:\\n{}'.format(actors))"
      ],
      "metadata": {
        "id": "Bait3Oal4yB-",
        "colab": {
          "base_uri": "https://localhost:8080/"
        },
        "outputId": "95b4446a-03a3-486b-a934-de751878085a"
      },
      "execution_count": null,
      "outputs": [
        {
          "output_type": "stream",
          "name": "stderr",
          "text": [
            "/usr/local/lib/python3.7/dist-packages/ipykernel_launcher.py:16: PerformanceWarning: DataFrame is highly fragmented.  This is usually the result of calling `frame.insert` many times, which has poor performance.  Consider joining all columns at once using pd.concat(axis=1) instead.  To get a de-fragmented frame, use `newframe = frame.copy()`\n",
            "  app.launch_new_instance()\n",
            "/usr/local/lib/python3.7/dist-packages/ipykernel_launcher.py:17: SettingWithCopyWarning: \n",
            "A value is trying to be set on a copy of a slice from a DataFrame\n",
            "\n",
            "See the caveats in the documentation: https://pandas.pydata.org/pandas-docs/stable/user_guide/indexing.html#returning-a-view-versus-a-copy\n"
          ]
        },
        {
          "output_type": "stream",
          "name": "stdout",
          "text": [
            "All actors:\n",
            "['50 Cent' 'AJ Michalka' 'Aamir Khan' ... 'Zoë Kravitz'\n",
            " 'Ólafur Darri Ólafsson' 'Óscar Jaenada']\n"
          ]
        }
      ]
    },
    {
      "cell_type": "code",
      "source": [
        "# Convert 'Director' column into a dummy variable for each director\n",
        "imdb = pd.get_dummies(imdb, columns=['Director'])\n",
        "imdb.head()"
      ],
      "metadata": {
        "colab": {
          "base_uri": "https://localhost:8080/",
          "height": 525
        },
        "id": "NIbFahlyMpUZ",
        "outputId": "3cb80555-9ddb-4eff-8ca6-88ca75d8704d"
      },
      "execution_count": null,
      "outputs": [
        {
          "output_type": "execute_result",
          "data": {
            "text/plain": [
              "   Rank                                        Description  \\\n",
              "0     1  0                 a\n",
              "1             group\n",
              "2     ...   \n",
              "1     2  0     following\n",
              "1         clues\n",
              "2            t...   \n",
              "2     3  0             three\n",
              "1             girls\n",
              "2     ...   \n",
              "3     4  0              in\n",
              "1               a\n",
              "2         ...   \n",
              "4     5  0                 a\n",
              "1            secret\n",
              "2     ...   \n",
              "\n",
              "                                              Actors  Year  Runtime (Minutes)  \\\n",
              "0  0       Chris Pratt\n",
              "1        Vin Diesel\n",
              "2    B...  2014                121   \n",
              "1  0            Noomi Rapace\n",
              "1    Logan Marshall-...  2012                124   \n",
              "2  0           James McAvoy\n",
              "1        Anya Taylor-...  2016                117   \n",
              "3  0    Matthew McConaughey\n",
              "1      Reese Withersp...  2016                108   \n",
              "4  0       Will Smith\n",
              "1       Jared Leto\n",
              "2    Mar...  2016                123   \n",
              "\n",
              "   Rating   Votes  Revenue (Millions)  Metascore  Genre_Action  ...  \\\n",
              "0     8.1  757074              333.13       76.0           1.0  ...   \n",
              "1     7.0  485820              126.46       65.0           0.0  ...   \n",
              "2     7.3  157606              138.12       62.0           0.0  ...   \n",
              "3     7.2   60545              270.32       59.0           0.0  ...   \n",
              "4     6.2  393727              325.02       40.0           1.0  ...   \n",
              "\n",
              "   Director_Wes Craven  Director_Whit Stillman  Director_Will Gluck  \\\n",
              "0                    0                       0                    0   \n",
              "1                    0                       0                    0   \n",
              "2                    0                       0                    0   \n",
              "3                    0                       0                    0   \n",
              "4                    0                       0                    0   \n",
              "\n",
              "   Director_William Brent Bell  Director_Woody Allen  Director_Xavier Dolan  \\\n",
              "0                            0                     0                      0   \n",
              "1                            0                     0                      0   \n",
              "2                            0                     0                      0   \n",
              "3                            0                     0                      0   \n",
              "4                            0                     0                      0   \n",
              "\n",
              "   Director_Yimou Zhang  Director_Yorgos Lanthimos  Director_Zack Snyder  \\\n",
              "0                     0                          0                     0   \n",
              "1                     0                          0                     0   \n",
              "2                     0                          0                     0   \n",
              "3                     0                          0                     0   \n",
              "4                     0                          0                     0   \n",
              "\n",
              "   Director_Zackary Adler  \n",
              "0                       0  \n",
              "1                       0  \n",
              "2                       0  \n",
              "3                       0  \n",
              "4                       0  \n",
              "\n",
              "[5 rows x 7402 columns]"
            ],
            "text/html": [
              "\n",
              "  <div id=\"df-199d1687-b68b-4ede-bb0b-4e6442b7bc33\">\n",
              "    <div class=\"colab-df-container\">\n",
              "      <div>\n",
              "<style scoped>\n",
              "    .dataframe tbody tr th:only-of-type {\n",
              "        vertical-align: middle;\n",
              "    }\n",
              "\n",
              "    .dataframe tbody tr th {\n",
              "        vertical-align: top;\n",
              "    }\n",
              "\n",
              "    .dataframe thead th {\n",
              "        text-align: right;\n",
              "    }\n",
              "</style>\n",
              "<table border=\"1\" class=\"dataframe\">\n",
              "  <thead>\n",
              "    <tr style=\"text-align: right;\">\n",
              "      <th></th>\n",
              "      <th>Rank</th>\n",
              "      <th>Description</th>\n",
              "      <th>Actors</th>\n",
              "      <th>Year</th>\n",
              "      <th>Runtime (Minutes)</th>\n",
              "      <th>Rating</th>\n",
              "      <th>Votes</th>\n",
              "      <th>Revenue (Millions)</th>\n",
              "      <th>Metascore</th>\n",
              "      <th>Genre_Action</th>\n",
              "      <th>...</th>\n",
              "      <th>Director_Wes Craven</th>\n",
              "      <th>Director_Whit Stillman</th>\n",
              "      <th>Director_Will Gluck</th>\n",
              "      <th>Director_William Brent Bell</th>\n",
              "      <th>Director_Woody Allen</th>\n",
              "      <th>Director_Xavier Dolan</th>\n",
              "      <th>Director_Yimou Zhang</th>\n",
              "      <th>Director_Yorgos Lanthimos</th>\n",
              "      <th>Director_Zack Snyder</th>\n",
              "      <th>Director_Zackary Adler</th>\n",
              "    </tr>\n",
              "  </thead>\n",
              "  <tbody>\n",
              "    <tr>\n",
              "      <th>0</th>\n",
              "      <td>1</td>\n",
              "      <td>0                 a\n",
              "1             group\n",
              "2     ...</td>\n",
              "      <td>0       Chris Pratt\n",
              "1        Vin Diesel\n",
              "2    B...</td>\n",
              "      <td>2014</td>\n",
              "      <td>121</td>\n",
              "      <td>8.1</td>\n",
              "      <td>757074</td>\n",
              "      <td>333.13</td>\n",
              "      <td>76.0</td>\n",
              "      <td>1.0</td>\n",
              "      <td>...</td>\n",
              "      <td>0</td>\n",
              "      <td>0</td>\n",
              "      <td>0</td>\n",
              "      <td>0</td>\n",
              "      <td>0</td>\n",
              "      <td>0</td>\n",
              "      <td>0</td>\n",
              "      <td>0</td>\n",
              "      <td>0</td>\n",
              "      <td>0</td>\n",
              "    </tr>\n",
              "    <tr>\n",
              "      <th>1</th>\n",
              "      <td>2</td>\n",
              "      <td>0     following\n",
              "1         clues\n",
              "2            t...</td>\n",
              "      <td>0            Noomi Rapace\n",
              "1    Logan Marshall-...</td>\n",
              "      <td>2012</td>\n",
              "      <td>124</td>\n",
              "      <td>7.0</td>\n",
              "      <td>485820</td>\n",
              "      <td>126.46</td>\n",
              "      <td>65.0</td>\n",
              "      <td>0.0</td>\n",
              "      <td>...</td>\n",
              "      <td>0</td>\n",
              "      <td>0</td>\n",
              "      <td>0</td>\n",
              "      <td>0</td>\n",
              "      <td>0</td>\n",
              "      <td>0</td>\n",
              "      <td>0</td>\n",
              "      <td>0</td>\n",
              "      <td>0</td>\n",
              "      <td>0</td>\n",
              "    </tr>\n",
              "    <tr>\n",
              "      <th>2</th>\n",
              "      <td>3</td>\n",
              "      <td>0             three\n",
              "1             girls\n",
              "2     ...</td>\n",
              "      <td>0           James McAvoy\n",
              "1        Anya Taylor-...</td>\n",
              "      <td>2016</td>\n",
              "      <td>117</td>\n",
              "      <td>7.3</td>\n",
              "      <td>157606</td>\n",
              "      <td>138.12</td>\n",
              "      <td>62.0</td>\n",
              "      <td>0.0</td>\n",
              "      <td>...</td>\n",
              "      <td>0</td>\n",
              "      <td>0</td>\n",
              "      <td>0</td>\n",
              "      <td>0</td>\n",
              "      <td>0</td>\n",
              "      <td>0</td>\n",
              "      <td>0</td>\n",
              "      <td>0</td>\n",
              "      <td>0</td>\n",
              "      <td>0</td>\n",
              "    </tr>\n",
              "    <tr>\n",
              "      <th>3</th>\n",
              "      <td>4</td>\n",
              "      <td>0              in\n",
              "1               a\n",
              "2         ...</td>\n",
              "      <td>0    Matthew McConaughey\n",
              "1      Reese Withersp...</td>\n",
              "      <td>2016</td>\n",
              "      <td>108</td>\n",
              "      <td>7.2</td>\n",
              "      <td>60545</td>\n",
              "      <td>270.32</td>\n",
              "      <td>59.0</td>\n",
              "      <td>0.0</td>\n",
              "      <td>...</td>\n",
              "      <td>0</td>\n",
              "      <td>0</td>\n",
              "      <td>0</td>\n",
              "      <td>0</td>\n",
              "      <td>0</td>\n",
              "      <td>0</td>\n",
              "      <td>0</td>\n",
              "      <td>0</td>\n",
              "      <td>0</td>\n",
              "      <td>0</td>\n",
              "    </tr>\n",
              "    <tr>\n",
              "      <th>4</th>\n",
              "      <td>5</td>\n",
              "      <td>0                 a\n",
              "1            secret\n",
              "2     ...</td>\n",
              "      <td>0       Will Smith\n",
              "1       Jared Leto\n",
              "2    Mar...</td>\n",
              "      <td>2016</td>\n",
              "      <td>123</td>\n",
              "      <td>6.2</td>\n",
              "      <td>393727</td>\n",
              "      <td>325.02</td>\n",
              "      <td>40.0</td>\n",
              "      <td>1.0</td>\n",
              "      <td>...</td>\n",
              "      <td>0</td>\n",
              "      <td>0</td>\n",
              "      <td>0</td>\n",
              "      <td>0</td>\n",
              "      <td>0</td>\n",
              "      <td>0</td>\n",
              "      <td>0</td>\n",
              "      <td>0</td>\n",
              "      <td>0</td>\n",
              "      <td>0</td>\n",
              "    </tr>\n",
              "  </tbody>\n",
              "</table>\n",
              "<p>5 rows × 7402 columns</p>\n",
              "</div>\n",
              "      <button class=\"colab-df-convert\" onclick=\"convertToInteractive('df-199d1687-b68b-4ede-bb0b-4e6442b7bc33')\"\n",
              "              title=\"Convert this dataframe to an interactive table.\"\n",
              "              style=\"display:none;\">\n",
              "        \n",
              "  <svg xmlns=\"http://www.w3.org/2000/svg\" height=\"24px\"viewBox=\"0 0 24 24\"\n",
              "       width=\"24px\">\n",
              "    <path d=\"M0 0h24v24H0V0z\" fill=\"none\"/>\n",
              "    <path d=\"M18.56 5.44l.94 2.06.94-2.06 2.06-.94-2.06-.94-.94-2.06-.94 2.06-2.06.94zm-11 1L8.5 8.5l.94-2.06 2.06-.94-2.06-.94L8.5 2.5l-.94 2.06-2.06.94zm10 10l.94 2.06.94-2.06 2.06-.94-2.06-.94-.94-2.06-.94 2.06-2.06.94z\"/><path d=\"M17.41 7.96l-1.37-1.37c-.4-.4-.92-.59-1.43-.59-.52 0-1.04.2-1.43.59L10.3 9.45l-7.72 7.72c-.78.78-.78 2.05 0 2.83L4 21.41c.39.39.9.59 1.41.59.51 0 1.02-.2 1.41-.59l7.78-7.78 2.81-2.81c.8-.78.8-2.07 0-2.86zM5.41 20L4 18.59l7.72-7.72 1.47 1.35L5.41 20z\"/>\n",
              "  </svg>\n",
              "      </button>\n",
              "      \n",
              "  <style>\n",
              "    .colab-df-container {\n",
              "      display:flex;\n",
              "      flex-wrap:wrap;\n",
              "      gap: 12px;\n",
              "    }\n",
              "\n",
              "    .colab-df-convert {\n",
              "      background-color: #E8F0FE;\n",
              "      border: none;\n",
              "      border-radius: 50%;\n",
              "      cursor: pointer;\n",
              "      display: none;\n",
              "      fill: #1967D2;\n",
              "      height: 32px;\n",
              "      padding: 0 0 0 0;\n",
              "      width: 32px;\n",
              "    }\n",
              "\n",
              "    .colab-df-convert:hover {\n",
              "      background-color: #E2EBFA;\n",
              "      box-shadow: 0px 1px 2px rgba(60, 64, 67, 0.3), 0px 1px 3px 1px rgba(60, 64, 67, 0.15);\n",
              "      fill: #174EA6;\n",
              "    }\n",
              "\n",
              "    [theme=dark] .colab-df-convert {\n",
              "      background-color: #3B4455;\n",
              "      fill: #D2E3FC;\n",
              "    }\n",
              "\n",
              "    [theme=dark] .colab-df-convert:hover {\n",
              "      background-color: #434B5C;\n",
              "      box-shadow: 0px 1px 3px 1px rgba(0, 0, 0, 0.15);\n",
              "      filter: drop-shadow(0px 1px 2px rgba(0, 0, 0, 0.3));\n",
              "      fill: #FFFFFF;\n",
              "    }\n",
              "  </style>\n",
              "\n",
              "      <script>\n",
              "        const buttonEl =\n",
              "          document.querySelector('#df-199d1687-b68b-4ede-bb0b-4e6442b7bc33 button.colab-df-convert');\n",
              "        buttonEl.style.display =\n",
              "          google.colab.kernel.accessAllowed ? 'block' : 'none';\n",
              "\n",
              "        async function convertToInteractive(key) {\n",
              "          const element = document.querySelector('#df-199d1687-b68b-4ede-bb0b-4e6442b7bc33');\n",
              "          const dataTable =\n",
              "            await google.colab.kernel.invokeFunction('convertToInteractive',\n",
              "                                                     [key], {});\n",
              "          if (!dataTable) return;\n",
              "\n",
              "          const docLinkHtml = 'Like what you see? Visit the ' +\n",
              "            '<a target=\"_blank\" href=https://colab.research.google.com/notebooks/data_table.ipynb>data table notebook</a>'\n",
              "            + ' to learn more about interactive tables.';\n",
              "          element.innerHTML = '';\n",
              "          dataTable['output_type'] = 'display_data';\n",
              "          await google.colab.output.renderOutput(dataTable, element);\n",
              "          const docLink = document.createElement('div');\n",
              "          docLink.innerHTML = docLinkHtml;\n",
              "          element.appendChild(docLink);\n",
              "        }\n",
              "      </script>\n",
              "    </div>\n",
              "  </div>\n",
              "  "
            ]
          },
          "metadata": {},
          "execution_count": 8
        }
      ]
    },
    {
      "cell_type": "code",
      "source": [
        "# Drop all columns we won't be using anymore\n",
        "imdb = imdb.drop(columns=['Description', 'Actors'])"
      ],
      "metadata": {
        "id": "hkqsj8hdWZIc"
      },
      "execution_count": null,
      "outputs": []
    },
    {
      "cell_type": "markdown",
      "source": [
        "### **Correlations and Distributions**\n"
      ],
      "metadata": {
        "id": "w2BlkJIv649J"
      }
    },
    {
      "cell_type": "code",
      "source": [
        "import seaborn as sns"
      ],
      "metadata": {
        "id": "9lCQDHyOAQ2S"
      },
      "execution_count": null,
      "outputs": []
    },
    {
      "cell_type": "markdown",
      "source": [
        "To analyze correlations and distributions, we're first going to look at the occurrences of different genres in our dataset."
      ],
      "metadata": {
        "id": "KgY0rQipNa_J"
      }
    },
    {
      "cell_type": "code",
      "source": [
        "# Look at the occurrences of the different genres in our dataset\n",
        "# list of all genres\n",
        "genres = [item for sublist in [x.split(',') for x in imdb_copy['Genre']] for item in sublist] \n",
        "genre_dict = {}\n",
        "for genre in set(genres):\n",
        "  genre_dict[genre] = 0\n",
        "# adding a count for every occurance\n",
        "for genre in genres:\n",
        "  genre_dict[genre] = genre_dict[genre] + 1"
      ],
      "metadata": {
        "id": "B034QpMS9AKI"
      },
      "execution_count": null,
      "outputs": []
    },
    {
      "cell_type": "code",
      "source": [
        "print(set(genres))"
      ],
      "metadata": {
        "id": "dJMxPoOdbZoR",
        "outputId": "908e1132-e82b-4398-e2c8-950ff75ae7c8",
        "colab": {
          "base_uri": "https://localhost:8080/"
        }
      },
      "execution_count": null,
      "outputs": [
        {
          "output_type": "stream",
          "name": "stdout",
          "text": [
            "{'War', 'Sport', 'Action', 'Mystery', 'Horror', 'Animation', 'Adventure', 'Comedy', 'History', 'Sci-Fi', 'Biography', 'Musical', 'Romance', 'Crime', 'Fantasy', 'Western', 'Drama', 'Music', 'Thriller', 'Family'}\n"
          ]
        }
      ]
    },
    {
      "cell_type": "code",
      "source": [
        "genre_dict = {k: v for k, v in sorted(genre_dict.items(), key=lambda item: -1*item[1])}\n",
        "x = list(genre_dict.keys())\n",
        "y = list(genre_dict.values())\n",
        "# plotting y vs x to flip the coordinates\n",
        "_ = sns.barplot(y,x).set(title='Distribution of Genre Types')\n",
        "# here we can see we have some pretty heavily seen movie genres in our data, along with several that are very rare in this dataset"
      ],
      "metadata": {
        "colab": {
          "base_uri": "https://localhost:8080/",
          "height": 337
        },
        "id": "GoURD18mAZUX",
        "outputId": "041400c9-dadc-4270-8e14-dad1de94c778"
      },
      "execution_count": null,
      "outputs": [
        {
          "output_type": "stream",
          "name": "stderr",
          "text": [
            "/usr/local/lib/python3.7/dist-packages/seaborn/_decorators.py:43: FutureWarning: Pass the following variables as keyword args: x, y. From version 0.12, the only valid positional argument will be `data`, and passing other arguments without an explicit keyword will result in an error or misinterpretation.\n",
            "  FutureWarning\n"
          ]
        },
        {
          "output_type": "display_data",
          "data": {
            "text/plain": [
              "<Figure size 432x288 with 1 Axes>"
            ],
            "image/png": "[encoded data removed]"
          },
          "metadata": {
            "needs_background": "light"
          }
        }
      ]
    },
    {
      "cell_type": "markdown",
      "source": [
        "In this bar plot, we can see that there are some movie genres that appear much more frequently than others (ex. Drama, Action, Comedy, Adventure) and some that are relatively very rare in our dataset (ex. Sport, War, Musical, Western)."
      ],
      "metadata": {
        "id": "hU_87IrONpy5"
      }
    },
    {
      "cell_type": "markdown",
      "source": [
        "We will look at the prevalence of the top 4 genres, since there is a fairly large gap between the number of movies with these genres and the others in the dataset."
      ],
      "metadata": {
        "id": "UWXouB0OOWm3"
      }
    },
    {
      "cell_type": "code",
      "source": [
        "# Look at the prevelance of our top genres\n",
        "top_genres = list(genre_dict.keys())[0:4]\n",
        "top_sum = 0\n",
        "for genre in top_genres:\n",
        "  top_sum += genre_dict[genre]\n",
        "\n",
        "print(top_sum / sum(list(genre_dict.values())))"
      ],
      "metadata": {
        "colab": {
          "base_uri": "https://localhost:8080/"
        },
        "id": "htOk0pjuCiKk",
        "outputId": "3c300c1a-9f58-46c2-8203-1eaa1680377a"
      },
      "execution_count": null,
      "outputs": [
        {
          "output_type": "stream",
          "name": "stdout",
          "text": [
            "0.54337899543379\n"
          ]
        }
      ]
    },
    {
      "cell_type": "markdown",
      "source": [
        "We can see that over half of all genres mentioned in our data are the in the top 4 categories: Drama, Action, Comedy, or Adventure. To combat this, we may choose to weight our data when training our models."
      ],
      "metadata": {
        "id": "4ffk6-x8OoRN"
      }
    },
    {
      "cell_type": "markdown",
      "source": [
        "Now, we will look at the most popular actors in our dataset."
      ],
      "metadata": {
        "id": "0Pb0vVfQPN15"
      }
    },
    {
      "cell_type": "code",
      "source": [
        "# Look at our most popular actors\n",
        "actors = [item.strip() for sublist in [x.split(',') for x in imdb_copy['Actors']] for item in sublist] \n",
        "actor_dict = {}\n",
        "for actor in set(actors):\n",
        "  actor_dict[actor] = 0\n",
        "# adding for each occurance of an actor\n",
        "for actor in actors:\n",
        "  actor_dict[actor] = actor_dict[actor] + 1\n",
        "# sorting the dictionary\n",
        "actor_dict = {k: v for k, v in sorted(actor_dict.items(), key=lambda item: -1*item[1])}\n",
        "\n",
        "x = list(actor_dict.keys())[0:15]\n",
        "y = list(actor_dict.values())[0:15]\n",
        "_ = sns.barplot(y,x)"
      ],
      "metadata": {
        "colab": {
          "base_uri": "https://localhost:8080/",
          "height": 321
        },
        "id": "GyQbw4zuCVEU",
        "outputId": "d455a4d3-a6e1-46fa-dfc1-747bb98a6e22"
      },
      "execution_count": null,
      "outputs": [
        {
          "output_type": "stream",
          "name": "stderr",
          "text": [
            "/usr/local/lib/python3.7/dist-packages/seaborn/_decorators.py:43: FutureWarning: Pass the following variables as keyword args: x, y. From version 0.12, the only valid positional argument will be `data`, and passing other arguments without an explicit keyword will result in an error or misinterpretation.\n",
            "  FutureWarning\n"
          ]
        },
        {
          "output_type": "display_data",
          "data": {
            "text/plain": [
              "<Figure size 432x288 with 1 Axes>"
            ],
            "image/png": "[encoded data removed]"
          },
          "metadata": {
            "needs_background": "light"
          }
        }
      ]
    },
    {
      "cell_type": "code",
      "source": [
        "# we see here that there are several actors that have been in many movies, but there are no dominating actors with super high prevelance\n",
        "print(actor_dict['Mark Wahlberg'] / len(actors))"
      ],
      "metadata": {
        "colab": {
          "base_uri": "https://localhost:8080/"
        },
        "id": "s_KeKhfLGy_O",
        "outputId": "e59a9906-cdbd-4104-bc8d-9081cdedbce4"
      },
      "execution_count": null,
      "outputs": [
        {
          "output_type": "stream",
          "name": "stdout",
          "text": [
            "0.004876462938881665\n"
          ]
        }
      ]
    },
    {
      "cell_type": "markdown",
      "source": [
        "We can see that there are several actors that have been in many movies, but there are no dominating actors with high prevalence. We think that this may be an issue for including in our model, as there is likely very little predictive value: this will be explored further in feature selection"
      ],
      "metadata": {
        "id": "thJ12ahHPaFE"
      }
    },
    {
      "cell_type": "code",
      "source": [
        "# now, we'll visualize directors\n",
        "directors = [item.strip() for sublist in [x.split(',') for x in imdb_copy['Director']] for item in sublist] \n",
        "director_dict = {}\n",
        "for director in set(directors):\n",
        "  director_dict[director] = 0\n",
        "# adding for each occurance of a director\n",
        "for director in directors:\n",
        "  director_dict[director] = director_dict[director] + 1\n",
        "# sorting the dictionary\n",
        "director_dict = {k: v for k, v in sorted(director_dict.items(), key=lambda item: -1*item[1])}\n",
        "\n",
        "x = list(director_dict.keys())[0:15]\n",
        "y = list(director_dict.values())[0:15]\n",
        "_ = sns.barplot(y,x)"
      ],
      "metadata": {
        "colab": {
          "base_uri": "https://localhost:8080/",
          "height": 321
        },
        "id": "krGEi-8ZE1lc",
        "outputId": "8b4a49bd-54de-4e99-ed88-0ba89c60a601"
      },
      "execution_count": null,
      "outputs": [
        {
          "output_type": "stream",
          "name": "stderr",
          "text": [
            "/usr/local/lib/python3.7/dist-packages/seaborn/_decorators.py:43: FutureWarning: Pass the following variables as keyword args: x, y. From version 0.12, the only valid positional argument will be `data`, and passing other arguments without an explicit keyword will result in an error or misinterpretation.\n",
            "  FutureWarning\n"
          ]
        },
        {
          "output_type": "display_data",
          "data": {
            "text/plain": [
              "<Figure size 432x288 with 1 Axes>"
            ],
            "image/png": "[encoded data removed]"
          },
          "metadata": {
            "needs_background": "light"
          }
        }
      ]
    },
    {
      "cell_type": "markdown",
      "source": [
        "Similar to actors, there is no meaningful cncentration of directors in this data. Similiarly, we will likely remove this feature from our data"
      ],
      "metadata": {
        "id": "O2KIJIXxA9pA"
      }
    },
    {
      "cell_type": "code",
      "source": [
        "# visualize frequency of words in description\n",
        "import re\n",
        "# take the columns with frequency\n",
        "freq_cols = [col for col in imdb.columns if re.search('freq',col)]\n",
        "desc_dict = {}\n",
        "# assign the word name to the sum of all occurances\n",
        "for col in freq_cols:\n",
        "  desc_dict[col] = sum(imdb[col])"
      ],
      "metadata": {
        "id": "Bgm-uMSASsWe"
      },
      "execution_count": null,
      "outputs": []
    },
    {
      "cell_type": "code",
      "source": [
        "# sort the dictionary\n",
        "desc_dict = {k: v for k, v in sorted(desc_dict.items(), key=lambda item: -1*item[1])}\n",
        "\n",
        "x = list(desc_dict.keys())[0:15]\n",
        "y = list(desc_dict.values())[0:15]\n",
        "_ = sns.barplot(y,x).set(title= \"Distribution of Top Words in Description\")"
      ],
      "metadata": {
        "colab": {
          "base_uri": "https://localhost:8080/",
          "height": 337
        },
        "id": "JgF4zFD-BqRV",
        "outputId": "1a61618e-fd6f-4b18-ce07-2b552006eb06"
      },
      "execution_count": null,
      "outputs": [
        {
          "output_type": "stream",
          "name": "stderr",
          "text": [
            "/usr/local/lib/python3.7/dist-packages/seaborn/_decorators.py:43: FutureWarning: Pass the following variables as keyword args: x, y. From version 0.12, the only valid positional argument will be `data`, and passing other arguments without an explicit keyword will result in an error or misinterpretation.\n",
            "  FutureWarning\n"
          ]
        },
        {
          "output_type": "display_data",
          "data": {
            "text/plain": [
              "<Figure size 432x288 with 1 Axes>"
            ],
            "image/png": "[encoded data removed]"
          },
          "metadata": {
            "needs_background": "light"
          }
        }
      ]
    },
    {
      "cell_type": "code",
      "source": [
        "# let's find the top words in each genre\n",
        "# adding new columns for each potential genre\n",
        "find_top = imdb.copy()\n",
        "find_top['genre_0'] = find_top[\"Genre\"].map(lambda x: x[0])\n",
        "find_top['genre_1'] = find_top[\"Genre\"].map(lambda x: x[1] if (len(x) > 1) else \"N/A\")\n",
        "find_top['genre_2'] = find_top[\"Genre\"].map(lambda x: x[2] if (len(x) > 2) else \"N/A\")"
      ],
      "metadata": {
        "id": "aromgPgyC0P8"
      },
      "execution_count": null,
      "outputs": []
    },
    {
      "cell_type": "code",
      "source": [
        "####### this cell takes a long time to run\n",
        "word_dict = {}\n",
        "# for each genre in all possible genres\n",
        "for genre in set(genres):\n",
        "  genre_dict = {}\n",
        "  # for each word in our frequency columns\n",
        "  for col in freq_cols:\n",
        "    # we're taking the sum of the column (word) where the genre is equal to the genre we're looking at\n",
        "    # have to add genre 0 through 2 to get all possible movies with that genre\n",
        "    genre_dict[col] = sum(find_top[find_top['genre_0']==genre][col])\n",
        "    genre_dict[col] = genre_dict[col] + sum(find_top[find_top['genre_1']==genre][col])\n",
        "    genre_dict[col] = genre_dict[col] + sum(find_top[find_top['genre_2']==genre][col])\n",
        "  # assigning word dict (which has all of the genres) at genre to the dictionary of frequencies that we just made\n",
        "  word_dict[genre] = genre_dict\n"
      ],
      "metadata": {
        "id": "puFYe5-uEk5A"
      },
      "execution_count": null,
      "outputs": []
    },
    {
      "cell_type": "code",
      "source": [
        "# sorting every dictionary to find the top words\n",
        "for genre in word_dict.keys():\n",
        "  word_dict[genre] = {k: v for k, v in sorted(word_dict[genre].items(), key=lambda item: -1*item[1])}"
      ],
      "metadata": {
        "id": "dtqvSOuiEk1Z"
      },
      "execution_count": null,
      "outputs": []
    },
    {
      "cell_type": "code",
      "source": [
        "# now, getting a dictionary of just the most common word for each genre\n",
        "top_dict = {}\n",
        "for genre in set(genres):\n",
        "  # taking just the first word from the sorted genres\n",
        "  top_word = list(word_dict[genre].keys())[0]\n",
        "  top_dict[genre] = {}\n",
        "  top_dict[genre][top_word] = word_dict[genre][top_word]"
      ],
      "metadata": {
        "id": "Z-vjaVlmEkyY"
      },
      "execution_count": null,
      "outputs": []
    },
    {
      "cell_type": "code",
      "source": [
        "# top words for each category\n",
        "top_dict"
      ],
      "metadata": {
        "colab": {
          "base_uri": "https://localhost:8080/"
        },
        "id": "pOdlMTryU9DP",
        "outputId": "959e07fb-e6e5-4e38-d196-6c6461bcca20"
      },
      "execution_count": null,
      "outputs": [
        {
          "output_type": "execute_result",
          "data": {
            "text/plain": [
              "{'Action': {'new_freq': 40.0},\n",
              " 'Horror': {'young_freq': 15.0},\n",
              " 'Comedy': {'life_freq': 37.0},\n",
              " 'Music': {'life_freq': 4.0},\n",
              " 'Romance': {'love_freq': 23.0},\n",
              " 'Adventure': {'world_freq': 43.0},\n",
              " 'Sci-Fi': {'world_freq': 17.0},\n",
              " 'Drama': {'young_freq': 58.0},\n",
              " 'Mystery': {'woman_freq': 13.0},\n",
              " 'Family': {'new_freq': 9.0},\n",
              " 'Crime': {'drug_freq': 12.0},\n",
              " 'Western': {'help_freq': 2.0},\n",
              " 'War': {'group_freq': 3.0},\n",
              " 'Thriller': {'young_freq': 19.0},\n",
              " 'Fantasy': {'world_freq': 19.0},\n",
              " 'Animation': {'young_freq': 9.0},\n",
              " 'History': {'story_freq': 6.0},\n",
              " 'Sport': {'boxer_freq': 4.0},\n",
              " 'Musical': {'story_freq': 2.0},\n",
              " 'Biography': {'story_freq': 20.0}}"
            ]
          },
          "metadata": {},
          "execution_count": 28
        }
      ]
    },
    {
      "cell_type": "markdown",
      "source": [
        "We can see here that there is a good amount of variation in the most frequent words at each genre. Of course, there are some repeats with words like \"life\", \"young\", \"world\", etc. that we would expect to occur in many different genres of movies. However, there are several genres with most frequent words that are very related to the actual genre like \"love\" for romance, or \"drug\" for crime, and such. This gives us a look into how our descritpion feature can be helpful in the prediction"
      ],
      "metadata": {
        "id": "679JSKKjCsbJ"
      }
    },
    {
      "cell_type": "code",
      "source": [
        "# next, we'll move to correlations of numerical variables\n",
        "imdb_num = imdb_copy.select_dtypes(include = 'number').drop(columns = ['Rank','Year'])\n",
        "imdb_num.head()"
      ],
      "metadata": {
        "colab": {
          "base_uri": "https://localhost:8080/",
          "height": 206
        },
        "id": "_oUVOyMS7Pp4",
        "outputId": "b9769a14-0f40-47d5-d5f9-17c5196f324b"
      },
      "execution_count": null,
      "outputs": [
        {
          "output_type": "execute_result",
          "data": {
            "text/plain": [
              "   Runtime (Minutes)  Rating   Votes  Revenue (Millions)  Metascore\n",
              "0                121     8.1  757074              333.13       76.0\n",
              "1                124     7.0  485820              126.46       65.0\n",
              "2                117     7.3  157606              138.12       62.0\n",
              "3                108     7.2   60545              270.32       59.0\n",
              "4                123     6.2  393727              325.02       40.0"
            ],
            "text/html": [
              "\n",
              "  <div id=\"df-6c9917ca-bfb0-4888-bdb4-cbf4fc2dc0c3\">\n",
              "    <div class=\"colab-df-container\">\n",
              "      <div>\n",
              "<style scoped>\n",
              "    .dataframe tbody tr th:only-of-type {\n",
              "        vertical-align: middle;\n",
              "    }\n",
              "\n",
              "    .dataframe tbody tr th {\n",
              "        vertical-align: top;\n",
              "    }\n",
              "\n",
              "    .dataframe thead th {\n",
              "        text-align: right;\n",
              "    }\n",
              "</style>\n",
              "<table border=\"1\" class=\"dataframe\">\n",
              "  <thead>\n",
              "    <tr style=\"text-align: right;\">\n",
              "      <th></th>\n",
              "      <th>Runtime (Minutes)</th>\n",
              "      <th>Rating</th>\n",
              "      <th>Votes</th>\n",
              "      <th>Revenue (Millions)</th>\n",
              "      <th>Metascore</th>\n",
              "    </tr>\n",
              "  </thead>\n",
              "  <tbody>\n",
              "    <tr>\n",
              "      <th>0</th>\n",
              "      <td>121</td>\n",
              "      <td>8.1</td>\n",
              "      <td>757074</td>\n",
              "      <td>333.13</td>\n",
              "      <td>76.0</td>\n",
              "    </tr>\n",
              "    <tr>\n",
              "      <th>1</th>\n",
              "      <td>124</td>\n",
              "      <td>7.0</td>\n",
              "      <td>485820</td>\n",
              "      <td>126.46</td>\n",
              "      <td>65.0</td>\n",
              "    </tr>\n",
              "    <tr>\n",
              "      <th>2</th>\n",
              "      <td>117</td>\n",
              "      <td>7.3</td>\n",
              "      <td>157606</td>\n",
              "      <td>138.12</td>\n",
              "      <td>62.0</td>\n",
              "    </tr>\n",
              "    <tr>\n",
              "      <th>3</th>\n",
              "      <td>108</td>\n",
              "      <td>7.2</td>\n",
              "      <td>60545</td>\n",
              "      <td>270.32</td>\n",
              "      <td>59.0</td>\n",
              "    </tr>\n",
              "    <tr>\n",
              "      <th>4</th>\n",
              "      <td>123</td>\n",
              "      <td>6.2</td>\n",
              "      <td>393727</td>\n",
              "      <td>325.02</td>\n",
              "      <td>40.0</td>\n",
              "    </tr>\n",
              "  </tbody>\n",
              "</table>\n",
              "</div>\n",
              "      <button class=\"colab-df-convert\" onclick=\"convertToInteractive('df-6c9917ca-bfb0-4888-bdb4-cbf4fc2dc0c3')\"\n",
              "              title=\"Convert this dataframe to an interactive table.\"\n",
              "              style=\"display:none;\">\n",
              "        \n",
              "  <svg xmlns=\"http://www.w3.org/2000/svg\" height=\"24px\"viewBox=\"0 0 24 24\"\n",
              "       width=\"24px\">\n",
              "    <path d=\"M0 0h24v24H0V0z\" fill=\"none\"/>\n",
              "    <path d=\"M18.56 5.44l.94 2.06.94-2.06 2.06-.94-2.06-.94-.94-2.06-.94 2.06-2.06.94zm-11 1L8.5 8.5l.94-2.06 2.06-.94-2.06-.94L8.5 2.5l-.94 2.06-2.06.94zm10 10l.94 2.06.94-2.06 2.06-.94-2.06-.94-.94-2.06-.94 2.06-2.06.94z\"/><path d=\"M17.41 7.96l-1.37-1.37c-.4-.4-.92-.59-1.43-.59-.52 0-1.04.2-1.43.59L10.3 9.45l-7.72 7.72c-.78.78-.78 2.05 0 2.83L4 21.41c.39.39.9.59 1.41.59.51 0 1.02-.2 1.41-.59l7.78-7.78 2.81-2.81c.8-.78.8-2.07 0-2.86zM5.41 20L4 18.59l7.72-7.72 1.47 1.35L5.41 20z\"/>\n",
              "  </svg>\n",
              "      </button>\n",
              "      \n",
              "  <style>\n",
              "    .colab-df-container {\n",
              "      display:flex;\n",
              "      flex-wrap:wrap;\n",
              "      gap: 12px;\n",
              "    }\n",
              "\n",
              "    .colab-df-convert {\n",
              "      background-color: #E8F0FE;\n",
              "      border: none;\n",
              "      border-radius: 50%;\n",
              "      cursor: pointer;\n",
              "      display: none;\n",
              "      fill: #1967D2;\n",
              "      height: 32px;\n",
              "      padding: 0 0 0 0;\n",
              "      width: 32px;\n",
              "    }\n",
              "\n",
              "    .colab-df-convert:hover {\n",
              "      background-color: #E2EBFA;\n",
              "      box-shadow: 0px 1px 2px rgba(60, 64, 67, 0.3), 0px 1px 3px 1px rgba(60, 64, 67, 0.15);\n",
              "      fill: #174EA6;\n",
              "    }\n",
              "\n",
              "    [theme=dark] .colab-df-convert {\n",
              "      background-color: #3B4455;\n",
              "      fill: #D2E3FC;\n",
              "    }\n",
              "\n",
              "    [theme=dark] .colab-df-convert:hover {\n",
              "      background-color: #434B5C;\n",
              "      box-shadow: 0px 1px 3px 1px rgba(0, 0, 0, 0.15);\n",
              "      filter: drop-shadow(0px 1px 2px rgba(0, 0, 0, 0.3));\n",
              "      fill: #FFFFFF;\n",
              "    }\n",
              "  </style>\n",
              "\n",
              "      <script>\n",
              "        const buttonEl =\n",
              "          document.querySelector('#df-6c9917ca-bfb0-4888-bdb4-cbf4fc2dc0c3 button.colab-df-convert');\n",
              "        buttonEl.style.display =\n",
              "          google.colab.kernel.accessAllowed ? 'block' : 'none';\n",
              "\n",
              "        async function convertToInteractive(key) {\n",
              "          const element = document.querySelector('#df-6c9917ca-bfb0-4888-bdb4-cbf4fc2dc0c3');\n",
              "          const dataTable =\n",
              "            await google.colab.kernel.invokeFunction('convertToInteractive',\n",
              "                                                     [key], {});\n",
              "          if (!dataTable) return;\n",
              "\n",
              "          const docLinkHtml = 'Like what you see? Visit the ' +\n",
              "            '<a target=\"_blank\" href=https://colab.research.google.com/notebooks/data_table.ipynb>data table notebook</a>'\n",
              "            + ' to learn more about interactive tables.';\n",
              "          element.innerHTML = '';\n",
              "          dataTable['output_type'] = 'display_data';\n",
              "          await google.colab.output.renderOutput(dataTable, element);\n",
              "          const docLink = document.createElement('div');\n",
              "          docLink.innerHTML = docLinkHtml;\n",
              "          element.appendChild(docLink);\n",
              "        }\n",
              "      </script>\n",
              "    </div>\n",
              "  </div>\n",
              "  "
            ]
          },
          "metadata": {},
          "execution_count": 29
        }
      ]
    },
    {
      "cell_type": "code",
      "source": [
        "# creating histograms of distributions\n",
        "_ = imdb_num.hist(figsize=(20, 12), bins=50, xlabelsize=8, ylabelsize=8)"
      ],
      "metadata": {
        "colab": {
          "base_uri": "https://localhost:8080/",
          "height": 633
        },
        "id": "Azk7ngK87iH9",
        "outputId": "5062121a-0673-44fe-adca-19755687855f"
      },
      "execution_count": null,
      "outputs": [
        {
          "output_type": "display_data",
          "data": {
            "text/plain": [
              "<Figure size 1440x864 with 6 Axes>"
            ],
            "image/png": "[encoded data removed]"
          },
          "metadata": {
            "needs_background": "light"
          }
        }
      ]
    },
    {
      "cell_type": "code",
      "source": [
        "# Correlation Analysis\n",
        "df_corr = imdb_copy.corr()\n",
        "plt.figure(figsize=(24, 24))\n",
        "\n",
        "sns.heatmap(df_corr, \n",
        "            cmap='viridis', vmax=1.0, vmin=-1.0, linewidths=0.1,\n",
        "            annot=True, annot_kws={\"size\": 8}, square=True);"
      ],
      "metadata": {
        "colab": {
          "base_uri": "https://localhost:8080/",
          "height": 1000
        },
        "id": "T_fQenqs8pfc",
        "outputId": "9a71149f-bf84-4689-d8b6-8b5bcad924af"
      },
      "execution_count": null,
      "outputs": [
        {
          "output_type": "display_data",
          "data": {
            "text/plain": [
              "<Figure size 1728x1728 with 2 Axes>"
            ],
            "image/png": "[encoded data removed]"
          },
          "metadata": {
            "needs_background": "light"
          }
        }
      ]
    },
    {
      "cell_type": "markdown",
      "source": [
        "We can see in the correlation heatmap that we don't have many features that are very strongly correlated with each other. However, we do have several that are higher that .5, which we will investigate more below:"
      ],
      "metadata": {
        "id": "c4biOGyCDe5e"
      }
    },
    {
      "cell_type": "code",
      "source": [
        "# let's visualize some of the variables mith medium-high correlations\n",
        "sns.regplot(data = imdb_num, x = 'Metascore',y = 'Rating')\n",
        "# Metascore and Rating have very high correlation, so we'll just use one of them"
      ],
      "metadata": {
        "colab": {
          "base_uri": "https://localhost:8080/",
          "height": 297
        },
        "id": "NAkGkHw8Wkov",
        "outputId": "adae4bbd-5129-4e3d-d977-8e548c78dbeb"
      },
      "execution_count": null,
      "outputs": [
        {
          "output_type": "execute_result",
          "data": {
            "text/plain": [
              "<matplotlib.axes._subplots.AxesSubplot at 0x7f0fdc6b9550>"
            ]
          },
          "metadata": {},
          "execution_count": 32
        },
        {
          "output_type": "display_data",
          "data": {
            "text/plain": [
              "<Figure size 432x288 with 1 Axes>"
            ],
            "image/png": "[encoded data removed]"
          },
          "metadata": {
            "needs_background": "light"
          }
        }
      ]
    },
    {
      "cell_type": "code",
      "source": [
        "sns.regplot(data = imdb_num, x = 'Runtime (Minutes)',y = 'Rating')\n",
        "# Runtime vs Rating"
      ],
      "metadata": {
        "colab": {
          "base_uri": "https://localhost:8080/",
          "height": 297
        },
        "id": "acHlHgPRW5nw",
        "outputId": "41794c3f-5ad1-400b-f57a-3edf29bdcb9e"
      },
      "execution_count": null,
      "outputs": [
        {
          "output_type": "execute_result",
          "data": {
            "text/plain": [
              "<matplotlib.axes._subplots.AxesSubplot at 0x7f0fdc690750>"
            ]
          },
          "metadata": {},
          "execution_count": 33
        },
        {
          "output_type": "display_data",
          "data": {
            "text/plain": [
              "<Figure size 432x288 with 1 Axes>"
            ],
            "image/png": "[encoded data removed]"
          },
          "metadata": {
            "needs_background": "light"
          }
        }
      ]
    },
    {
      "cell_type": "code",
      "source": [
        "sns.regplot(data = imdb_num, x = 'Votes',y = 'Revenue (Millions)')\n",
        "# votes vs. revenue"
      ],
      "metadata": {
        "colab": {
          "base_uri": "https://localhost:8080/",
          "height": 297
        },
        "id": "2JMqUoNJXBFG",
        "outputId": "54a55c66-3c80-47c1-d928-0c7391ed079c"
      },
      "execution_count": null,
      "outputs": [
        {
          "output_type": "execute_result",
          "data": {
            "text/plain": [
              "<matplotlib.axes._subplots.AxesSubplot at 0x7f0fd8e8a410>"
            ]
          },
          "metadata": {},
          "execution_count": 34
        },
        {
          "output_type": "display_data",
          "data": {
            "text/plain": [
              "<Figure size 432x288 with 1 Axes>"
            ],
            "image/png": "[encoded data removed]"
          },
          "metadata": {
            "needs_background": "light"
          }
        }
      ]
    },
    {
      "cell_type": "code",
      "source": [
        "sns.regplot(data = imdb_num, x = 'Votes',y = 'Runtime (Minutes)')\n",
        "# votes vs. runtime"
      ],
      "metadata": {
        "colab": {
          "base_uri": "https://localhost:8080/",
          "height": 297
        },
        "id": "S5UIwQUrXOXT",
        "outputId": "dea8cee2-5295-44bb-9e67-86993975259e"
      },
      "execution_count": null,
      "outputs": [
        {
          "output_type": "execute_result",
          "data": {
            "text/plain": [
              "<matplotlib.axes._subplots.AxesSubplot at 0x7f0fd8e38d90>"
            ]
          },
          "metadata": {},
          "execution_count": 35
        },
        {
          "output_type": "display_data",
          "data": {
            "text/plain": [
              "<Figure size 432x288 with 1 Axes>"
            ],
            "image/png": "[encoded data removed]"
          },
          "metadata": {
            "needs_background": "light"
          }
        }
      ]
    },
    {
      "cell_type": "markdown",
      "source": [
        "Let's check the skew of our numerical features."
      ],
      "metadata": {
        "id": "SyG_591E9D3P"
      }
    },
    {
      "cell_type": "code",
      "source": [
        "# Check the skew of our numerical features\n",
        "from scipy.stats import skew\n",
        "\n",
        "numeric_feats = imdb_copy.dtypes[imdb_copy.dtypes != \"object\"].index\n",
        "\n",
        "skewed_feats = imdb_copy[numeric_feats].apply(lambda x: skew(x.dropna())).sort_values(ascending=False)\n",
        "print(\"\\nSkew in numerical features: \\n\")\n",
        "skewness = pd.DataFrame({'Skew' :skewed_feats})\n",
        "skewness"
      ],
      "metadata": {
        "id": "7So_uQruV4Pw",
        "colab": {
          "base_uri": "https://localhost:8080/",
          "height": 322
        },
        "outputId": "7e9ab4f8-b4b9-4195-fcd6-96cbef7f91a1"
      },
      "execution_count": null,
      "outputs": [
        {
          "output_type": "stream",
          "name": "stdout",
          "text": [
            "\n",
            "Skew in numerical features: \n",
            "\n"
          ]
        },
        {
          "output_type": "execute_result",
          "data": {
            "text/plain": [
              "                        Skew\n",
              "Revenue (Millions)  2.556027\n",
              "Votes               2.462365\n",
              "Runtime (Minutes)   0.792025\n",
              "Rank                0.061858\n",
              "Metascore          -0.123981\n",
              "Year               -0.585571\n",
              "Rating             -0.675844"
            ],
            "text/html": [
              "\n",
              "  <div id=\"df-2ff95c71-3528-45d5-9ee8-75e57d9ce5d7\">\n",
              "    <div class=\"colab-df-container\">\n",
              "      <div>\n",
              "<style scoped>\n",
              "    .dataframe tbody tr th:only-of-type {\n",
              "        vertical-align: middle;\n",
              "    }\n",
              "\n",
              "    .dataframe tbody tr th {\n",
              "        vertical-align: top;\n",
              "    }\n",
              "\n",
              "    .dataframe thead th {\n",
              "        text-align: right;\n",
              "    }\n",
              "</style>\n",
              "<table border=\"1\" class=\"dataframe\">\n",
              "  <thead>\n",
              "    <tr style=\"text-align: right;\">\n",
              "      <th></th>\n",
              "      <th>Skew</th>\n",
              "    </tr>\n",
              "  </thead>\n",
              "  <tbody>\n",
              "    <tr>\n",
              "      <th>Revenue (Millions)</th>\n",
              "      <td>2.556027</td>\n",
              "    </tr>\n",
              "    <tr>\n",
              "      <th>Votes</th>\n",
              "      <td>2.462365</td>\n",
              "    </tr>\n",
              "    <tr>\n",
              "      <th>Runtime (Minutes)</th>\n",
              "      <td>0.792025</td>\n",
              "    </tr>\n",
              "    <tr>\n",
              "      <th>Rank</th>\n",
              "      <td>0.061858</td>\n",
              "    </tr>\n",
              "    <tr>\n",
              "      <th>Metascore</th>\n",
              "      <td>-0.123981</td>\n",
              "    </tr>\n",
              "    <tr>\n",
              "      <th>Year</th>\n",
              "      <td>-0.585571</td>\n",
              "    </tr>\n",
              "    <tr>\n",
              "      <th>Rating</th>\n",
              "      <td>-0.675844</td>\n",
              "    </tr>\n",
              "  </tbody>\n",
              "</table>\n",
              "</div>\n",
              "      <button class=\"colab-df-convert\" onclick=\"convertToInteractive('df-2ff95c71-3528-45d5-9ee8-75e57d9ce5d7')\"\n",
              "              title=\"Convert this dataframe to an interactive table.\"\n",
              "              style=\"display:none;\">\n",
              "        \n",
              "  <svg xmlns=\"http://www.w3.org/2000/svg\" height=\"24px\"viewBox=\"0 0 24 24\"\n",
              "       width=\"24px\">\n",
              "    <path d=\"M0 0h24v24H0V0z\" fill=\"none\"/>\n",
              "    <path d=\"M18.56 5.44l.94 2.06.94-2.06 2.06-.94-2.06-.94-.94-2.06-.94 2.06-2.06.94zm-11 1L8.5 8.5l.94-2.06 2.06-.94-2.06-.94L8.5 2.5l-.94 2.06-2.06.94zm10 10l.94 2.06.94-2.06 2.06-.94-2.06-.94-.94-2.06-.94 2.06-2.06.94z\"/><path d=\"M17.41 7.96l-1.37-1.37c-.4-.4-.92-.59-1.43-.59-.52 0-1.04.2-1.43.59L10.3 9.45l-7.72 7.72c-.78.78-.78 2.05 0 2.83L4 21.41c.39.39.9.59 1.41.59.51 0 1.02-.2 1.41-.59l7.78-7.78 2.81-2.81c.8-.78.8-2.07 0-2.86zM5.41 20L4 18.59l7.72-7.72 1.47 1.35L5.41 20z\"/>\n",
              "  </svg>\n",
              "      </button>\n",
              "      \n",
              "  <style>\n",
              "    .colab-df-container {\n",
              "      display:flex;\n",
              "      flex-wrap:wrap;\n",
              "      gap: 12px;\n",
              "    }\n",
              "\n",
              "    .colab-df-convert {\n",
              "      background-color: #E8F0FE;\n",
              "      border: none;\n",
              "      border-radius: 50%;\n",
              "      cursor: pointer;\n",
              "      display: none;\n",
              "      fill: #1967D2;\n",
              "      height: 32px;\n",
              "      padding: 0 0 0 0;\n",
              "      width: 32px;\n",
              "    }\n",
              "\n",
              "    .colab-df-convert:hover {\n",
              "      background-color: #E2EBFA;\n",
              "      box-shadow: 0px 1px 2px rgba(60, 64, 67, 0.3), 0px 1px 3px 1px rgba(60, 64, 67, 0.15);\n",
              "      fill: #174EA6;\n",
              "    }\n",
              "\n",
              "    [theme=dark] .colab-df-convert {\n",
              "      background-color: #3B4455;\n",
              "      fill: #D2E3FC;\n",
              "    }\n",
              "\n",
              "    [theme=dark] .colab-df-convert:hover {\n",
              "      background-color: #434B5C;\n",
              "      box-shadow: 0px 1px 3px 1px rgba(0, 0, 0, 0.15);\n",
              "      filter: drop-shadow(0px 1px 2px rgba(0, 0, 0, 0.3));\n",
              "      fill: #FFFFFF;\n",
              "    }\n",
              "  </style>\n",
              "\n",
              "      <script>\n",
              "        const buttonEl =\n",
              "          document.querySelector('#df-2ff95c71-3528-45d5-9ee8-75e57d9ce5d7 button.colab-df-convert');\n",
              "        buttonEl.style.display =\n",
              "          google.colab.kernel.accessAllowed ? 'block' : 'none';\n",
              "\n",
              "        async function convertToInteractive(key) {\n",
              "          const element = document.querySelector('#df-2ff95c71-3528-45d5-9ee8-75e57d9ce5d7');\n",
              "          const dataTable =\n",
              "            await google.colab.kernel.invokeFunction('convertToInteractive',\n",
              "                                                     [key], {});\n",
              "          if (!dataTable) return;\n",
              "\n",
              "          const docLinkHtml = 'Like what you see? Visit the ' +\n",
              "            '<a target=\"_blank\" href=https://colab.research.google.com/notebooks/data_table.ipynb>data table notebook</a>'\n",
              "            + ' to learn more about interactive tables.';\n",
              "          element.innerHTML = '';\n",
              "          dataTable['output_type'] = 'display_data';\n",
              "          await google.colab.output.renderOutput(dataTable, element);\n",
              "          const docLink = document.createElement('div');\n",
              "          docLink.innerHTML = docLinkHtml;\n",
              "          element.appendChild(docLink);\n",
              "        }\n",
              "      </script>\n",
              "    </div>\n",
              "  </div>\n",
              "  "
            ]
          },
          "metadata": {},
          "execution_count": 36
        }
      ]
    },
    {
      "cell_type": "markdown",
      "source": [
        "We can see that there is a very high right skew in revenue and votes, along with a moderate right skew in Runtime, and a moderate left skew in Year and Rating. If we choose to keep these features, we'll look into use a log transformation to get rid of some of the skew"
      ],
      "metadata": {
        "id": "k6TsxJyY9IzY"
      }
    },
    {
      "cell_type": "markdown",
      "source": [
        "To view correlations between our categorical features, we will use Cramer's V."
      ],
      "metadata": {
        "id": "RecYQKfnzETi"
      }
    },
    {
      "cell_type": "code",
      "source": [
        "# Keep only the top actors and directors, as otherwise this would be very difficult to interpret\n",
        "print('Features before dropping:', len(imdb.columns))\n",
        "top_actors = np.percentile(list(actor_dict.values()), 99.7)\n",
        "imdb = imdb.drop(columns=['Actor_' + actor for actor in actor_dict.keys() if actor_dict[actor] < top_actors])\n",
        "top_directors = np.percentile(list(director_dict.values()), 99.7)\n",
        "imdb = imdb.drop(columns=['Director_' + director for director in director_dict.keys() if director_dict[director] < top_directors])\n",
        "print('Features after dropping:', len(imdb.columns))"
      ],
      "metadata": {
        "colab": {
          "base_uri": "https://localhost:8080/"
        },
        "id": "Uho8-cJxhA6b",
        "outputId": "9ce8775d-64a0-41c7-ed17-35f882d401b4"
      },
      "execution_count": null,
      "outputs": [
        {
          "output_type": "stream",
          "name": "stdout",
          "text": [
            "Features before dropping: 2189\n",
            "Features after dropping: 38\n"
          ]
        }
      ]
    },
    {
      "cell_type": "code",
      "source": [
        "from scipy.stats import chi2_contingency\n",
        "\n",
        "# Cramer's V function\n",
        "# from https://towardsdatascience.com/the-search-for-categorical-correlation-a1cf7f1888c9 (suggested on Piazza)\n",
        "def cramers_v(x, y):\n",
        "    confusion_matrix = pd.crosstab(x, y)\n",
        "    chi2 = chi2_contingency(confusion_matrix)[0]\n",
        "    n = confusion_matrix.sum().sum()\n",
        "    phi2 = chi2 / n\n",
        "    r, k = confusion_matrix.shape\n",
        "    phi2corr = max(0, phi2 - ((k - 1) * (r - 1)) / (n - 1))\n",
        "    rcorr = r - ((r - 1) ** 2) / (n - 1)\n",
        "    kcorr = k - ((k - 1) ** 2) / (n - 1)\n",
        "    return np.sqrt(phi2corr / min((kcorr - 1), (rcorr - 1)))\n",
        "\n",
        "# Build the matrix\n",
        "cols = [col for col in imdb.columns if '_freq' not in col]\n",
        "cv_mat = []\n",
        "for i in range(len(cols)):\n",
        "  cv_row = np.zeros(len(cols))\n",
        "  for j in range(i + 1):\n",
        "    cv_row[j] = cramers_v(imdb[cols[i]], imdb[cols[j]])\n",
        "  cv_mat.append(cv_row)\n",
        "\n",
        "cv_df = pd.DataFrame(cv_mat, columns=[cols], index=[cols])"
      ],
      "metadata": {
        "id": "NaPIsMnXAvRA"
      },
      "execution_count": null,
      "outputs": []
    },
    {
      "cell_type": "code",
      "source": [
        "# Plot a heatmap of the correlations\n",
        "plt.subplots(figsize=(20, 15))\n",
        "sns.heatmap(cv_df, vmin=0, vmax=1, square=True,\n",
        "            cmap='viridis')"
      ],
      "metadata": {
        "colab": {
          "base_uri": "https://localhost:8080/",
          "height": 1000
        },
        "id": "FWa3Bu01niQU",
        "outputId": "2d0aaf08-2ca7-4454-a031-e53e87ce52e1"
      },
      "execution_count": null,
      "outputs": [
        {
          "output_type": "execute_result",
          "data": {
            "text/plain": [
              "<matplotlib.axes._subplots.AxesSubplot at 0x7f8ecac3c150>"
            ]
          },
          "metadata": {},
          "execution_count": 180
        },
        {
          "output_type": "display_data",
          "data": {
            "text/plain": [
              "<Figure size 1440x1080 with 2 Axes>"
            ],
            "image/png": "[encoded data removed]"
          },
          "metadata": {
            "needs_background": "light"
          }
        }
      ]
    },
    {
      "cell_type": "markdown",
      "source": [
        "As we can see from the Cramer's V matrix, none of the top actors or directors are particularly strongly correlated with any of the genres. Moreso, some actors are correlated with appearing in movies with other actors, or even with other features such as revenue. Thus, it probably will not be necessary to include actors or directors in our training data."
      ],
      "metadata": {
        "id": "Efj0mPSernTT"
      }
    },
    {
      "cell_type": "markdown",
      "source": [
        "### **Feature Selection**"
      ],
      "metadata": {
        "id": "SfPZZnBzmJ5g"
      }
    },
    {
      "cell_type": "markdown",
      "source": [
        "On an intial pass, the clearest feature to remove is Rating. The feature is highly correlated with Metascore, which has a greater variation than rating. Additionally, revenue will likely be a feature we want to remove. There is a feature with medium correlation with it (votes), and revenue has an extremely skewed distribution. Additionally, the actors and directors appear with such low frequency that it would be best to leave them out."
      ],
      "metadata": {
        "id": "3zvyMPFWmW5w"
      }
    },
    {
      "cell_type": "code",
      "source": [
        "from sklearn.multioutput import MultiOutputClassifier\n",
        "from sklearn.feature_selection import SequentialFeatureSelector\n",
        "from sklearn.linear_model import LogisticRegression\n",
        "from sklearn.datasets import make_multilabel_classification\n",
        "\n",
        "moc = MultiOutputClassifier(LogisticRegression())\n",
        "X=imdb.copy().drop(columns=[\"genre_\"+genre for genre in genres])\n",
        "X=X.drop(columns=['Description', 'Actors', 'Genre'])\n",
        "X = X[X.columns.drop(list(X.filter(regex='Director_')))]\n",
        "X = X[X.columns.drop(list(X.filter(regex='Actor_')))]\n",
        "X = X[X.columns.drop(list(X.filter(regex='_freq')))]\n",
        "print(X.columns)\n",
        "y = imdb[[\"genre_\"+genre for genre in genres]]\n",
        "sfs1 = SequentialFeatureSelector(moc, n_features_to_select=1)\n",
        "sfs2 = SequentialFeatureSelector(moc, n_features_to_select=2)\n",
        "sfs3 = SequentialFeatureSelector(moc, n_features_to_select=3)\n",
        "sfs4 = SequentialFeatureSelector(moc, n_features_to_select=4)\n",
        "sfs5 = SequentialFeatureSelector(moc, n_features_to_select=5)\n",
        "sfs1.fit(X, y)\n",
        "print(sfs1.get_support())\n",
        "sfs2.fit(X, y)\n",
        "print(sfs2.get_support())\n",
        "sfs3.fit(X, y)\n",
        "print(sfs3.get_support())\n",
        "sfs4.fit(X, y)\n",
        "print(sfs4.get_support())"
      ],
      "metadata": {
        "colab": {
          "base_uri": "https://localhost:8080/"
        },
        "id": "DVzQFt_sydFg",
        "outputId": "d213359a-1363-441d-903e-0a6af9df4b3d"
      },
      "execution_count": null,
      "outputs": [
        {
          "output_type": "stream",
          "name": "stdout",
          "text": [
            "Index(['Rank', 'Year', 'Runtime (Minutes)', 'Rating', 'Votes',\n",
            "       'Revenue (Millions)', 'Metascore'],\n",
            "      dtype='object')\n",
            "[False False False False False  True False]\n",
            "[ True False False False False  True False]\n",
            "[ True  True False False False  True False]\n",
            "[ True  True False False  True  True False]\n"
          ]
        }
      ]
    },
    {
      "cell_type": "markdown",
      "source": [
        "After running a forward sequential feature selection, Revenue turns out to be the best predictor of genre out of the numeric features, so we will want to include it. Rating and metascore are both not in the top 4 features, so there doesn't appear to be any issue with removing Rating from the feature set.\n",
        "\n",
        "As it currently stands, actors, directors, and ratings will be the removed features."
      ],
      "metadata": {
        "id": "cLadcpkx0zu5"
      }
    },
    {
      "cell_type": "code",
      "source": [
        "imdb = imdb.drop(columns=['Rating'])"
      ],
      "metadata": {
        "id": "2sbmtGwT-9Km"
      },
      "execution_count": null,
      "outputs": []
    },
    {
      "cell_type": "code",
      "source": [
        "# Generate a CSV with our transformed data after EDA\n",
        "imdb.to_csv('imdb-transformed.csv', index=False)"
      ],
      "metadata": {
        "id": "sFI9fATuBa4I"
      },
      "execution_count": null,
      "outputs": []
    }
  ]
}